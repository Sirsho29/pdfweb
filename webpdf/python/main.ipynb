{
 "cells": [
  {
   "cell_type": "code",
   "execution_count": 13,
   "metadata": {},
   "outputs": [],
   "source": [
    "from google.cloud import storage\n",
    "from firebase import firebase\n",
    "import firebase_admin\n",
    "import google.cloud\n",
    "from firebase_admin import credentials, firestore\n",
    "import os\n",
    "os.environ[\"GOOGLE_APPLICATION_CREDENTIALS\"]=\"C:/Users/KIIT/Flutter/kudosware/pdf_website/python/serviceAccountKey.json\"\n",
    "cred = credentials.Certificate(\"C:/Users/KIIT/Flutter/kudosware/pdf_website/python/serviceAccountKey.json\")\n",
    "\n",
    "db = firestore.client()\n",
    "client = storage.Client()\n",
    "bucket = client.get_bucket('websitepdf.appspot.com')\n",
    "for i in range(1,11):\n",
    "    imageBlob = bucket.blob(\"/\")\n",
    "    imagePath = f\"C:/Users/KIIT/Flutter/kudosware/pdf_website/assets/Data/{i}.pdf\"\n",
    "    imageBlob = bucket.blob(f\"{i}\")\n",
    "    imageBlob.upload_from_filename(imagePath)\n",
    "    data = {\n",
    "    u'text': u'',\n",
    "    u'name': i,\n",
    "    u'url': imageBlob.public_url}\n",
    "    db.collection(u'pdfs').document(f\"{i}\").set(data)"
   ]
  },
  {
   "cell_type": "code",
   "execution_count": null,
   "metadata": {},
   "outputs": [],
   "source": []
  }
 ],
 "metadata": {
  "kernelspec": {
   "display_name": "Python 3",
   "language": "python",
   "name": "python3"
  },
  "language_info": {
   "codemirror_mode": {
    "name": "ipython",
    "version": 3
   },
   "file_extension": ".py",
   "mimetype": "text/x-python",
   "name": "python",
   "nbconvert_exporter": "python",
   "pygments_lexer": "ipython3",
   "version": "3.8.3"
  }
 },
 "nbformat": 4,
 "nbformat_minor": 4
}
